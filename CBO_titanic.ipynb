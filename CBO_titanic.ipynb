{
 "cells": [
  {
   "cell_type": "markdown",
   "metadata": {},
   "source": [
    "## Load Data from CSVs"
   ]
  },
  {
   "cell_type": "code",
   "execution_count": 64,
   "metadata": {
    "collapsed": false
   },
   "outputs": [
    {
     "name": "stdout",
     "output_type": "stream",
     "text": [
      "{u'Fare': u'7.25', u'Name': u'Braund, Mr. Owen Harris', u'Embarked': u'S', u'Age': u'22', u'Parch': u'0', u'Pclass': u'3', u'Sex': u'male', u'Survived': u'0', u'SibSp': u'1', u'PassengerId': u'1', u'Ticket': u'A/5 21171', u'Cabin': u''}\n"
     ]
    }
   ],
   "source": [
    "##  Open up the csv file in to a Python object\n",
    "##  Question:  how do I create/edit the cell \"Load data from CSVs\"\n",
    "\n",
    "import unicodecsv\n",
    "\n",
    "filename = 'C:\\Users\\co625g\\Documents\\MyFiles\\1_General\\Udacity\\Portfolio\\Titanic Project/titanic_data.csv'\n",
    "\n",
    "with open('titanic_data.csv', 'rb') as f:\n",
    "    reader = unicodecsv.DictReader(f)\n",
    "    titanic = list(reader)\n",
    "    \n",
    "print titanic[0]"
   ]
  },
  {
   "cell_type": "code",
   "execution_count": 65,
   "metadata": {
    "collapsed": false
   },
   "outputs": [
    {
     "name": "stdout",
     "output_type": "stream",
     "text": [
      "891\n",
      "12\n",
      "{u'Fare': u'7.75', u'Name': u'Dooley, Mr. Patrick', u'Embarked': u'Q', u'Age': u'32', u'Parch': u'0', u'Pclass': u'3', u'Sex': u'male', u'Survived': 0, u'SibSp': u'0', u'PassengerId': u'891', u'Ticket': u'370376', u'Cabin': u''}\n"
     ]
    }
   ],
   "source": [
    "##  Determine the total number of passengers in the data file.  891\n",
    "##  Run the length of the dataset to get the total number of records.\n",
    "\n",
    "print len(titanic)\n",
    "\n",
    "##  Determine the total number of passengers who survived:  342\n",
    "##  Set a counter and increment by 1 for each time survived = 1\n",
    "##  Print the counter.\n",
    "##  Problem:  Survived must be turned into an integer instead of a string.  i copied the code from the class and it finally worked\n",
    "##  But there are only 12 records in the new file, why?\n",
    "\n",
    "# titanic_data = []\n",
    "\n",
    "# print len(titanic_data)\n",
    "\n",
    "# Takes a string which is either an empty string or represents an integer,\n",
    "# and returns an int or None.\n",
    "\n",
    "def parse_maybe_int(i):\n",
    "    if i == '':\n",
    "        return None\n",
    "    else:\n",
    "        return int(i)\n",
    "    \n",
    "for titanic_data in titanic:\n",
    "    titanic_data['Survived'] = parse_maybe_int(titanic_data['Survived'])\n",
    "\n",
    "titanic_data\n",
    "print len(titanic_data)\n",
    "print titanic_data\n",
    "\n",
    "## copied the following from the kaggle.com web site and it didn't work either.\n",
    "\n",
    "#  import numpy as np\n",
    "\n",
    "#  number_passengers = np.size(titanic[0::,1].astype(np.float))\n",
    "#  number_survived = np.sum(data[0::,1].astype(np.float))\n",
    "#  proportion_survivors = number_survived / number_passengers\n",
    "    \n"
   ]
  },
  {
   "cell_type": "code",
   "execution_count": 72,
   "metadata": {
    "collapsed": false
   },
   "outputs": [
    {
     "ename": "TypeError",
     "evalue": "'dict' object is not callable",
     "output_type": "error",
     "traceback": [
      "\u001b[1;31m---------------------------------------------------------------------------\u001b[0m",
      "\u001b[1;31mTypeError\u001b[0m                                 Traceback (most recent call last)",
      "\u001b[1;32m<ipython-input-72-8799d7624191>\u001b[0m in \u001b[0;36m<module>\u001b[1;34m()\u001b[0m\n\u001b[0;32m     13\u001b[0m \u001b[1;33m\u001b[0m\u001b[0m\n\u001b[0;32m     14\u001b[0m \u001b[1;32mfor\u001b[0m \u001b[0mtitanic_data\u001b[0m \u001b[1;32min\u001b[0m \u001b[0mtitanic\u001b[0m\u001b[1;33m:\u001b[0m\u001b[1;33m\u001b[0m\u001b[0m\n\u001b[1;32m---> 15\u001b[1;33m     \u001b[1;32mif\u001b[0m \u001b[0mtitanic_data\u001b[0m\u001b[1;33m(\u001b[0m\u001b[1;34m'Sex'\u001b[0m\u001b[1;33m)\u001b[0m \u001b[1;33m==\u001b[0m \u001b[1;34m\"male\"\u001b[0m\u001b[1;33m:\u001b[0m\u001b[1;33m\u001b[0m\u001b[0m\n\u001b[0m\u001b[0;32m     16\u001b[0m         \u001b[0mcategory\u001b[0m \u001b[1;33m=\u001b[0m \u001b[1;34m\"M\"\u001b[0m\u001b[1;33m\u001b[0m\u001b[0m\n\u001b[0;32m     17\u001b[0m     \u001b[1;32melse\u001b[0m\u001b[1;33m:\u001b[0m\u001b[1;33m\u001b[0m\u001b[0m\n",
      "\u001b[1;31mTypeError\u001b[0m: 'dict' object is not callable"
     ]
    }
   ],
   "source": [
    "##  Create a category to label each person as man, woman or child.  \n",
    "##  Break out children as all people under 14.  Thus, women and men will be those adults 14 and over.  \n",
    "##  If a passenger has no age, we will assume they are an adult.\n",
    "##  Create a new set \"category\"  and use this this logic:\n",
    "##  Problem:  error that \"dict object is not callable\"\n",
    "\n",
    "category = set()\n",
    "#  for titanic_data in titanic:\n",
    "#    if titanic_data('Age') < 14:\n",
    "#        category = \"C\"\n",
    "\n",
    "len(category)\n",
    "\n",
    "for titanic_data in titanic:\n",
    "    if titanic_data('Sex') == \"male\":\n",
    "        category = \"M\"\n",
    "    else:\n",
    "        category = \"W\"\n",
    "\n",
    "#  If age => 14 and sex = \"female\", category = \"W\"\n",
    "#  If age => p14 and sex = \"male\", category = \"M\"\n",
    "\n",
    "\n",
    "#  Print sum of C, W, M\n"
   ]
  },
  {
   "cell_type": "code",
   "execution_count": 79,
   "metadata": {
    "collapsed": false
   },
   "outputs": [
    {
     "ename": "TypeError",
     "evalue": "list indices must be integers, not str",
     "output_type": "error",
     "traceback": [
      "\u001b[1;31m---------------------------------------------------------------------------\u001b[0m",
      "\u001b[1;31mTypeError\u001b[0m                                 Traceback (most recent call last)",
      "\u001b[1;32m<ipython-input-79-911377d98dd7>\u001b[0m in \u001b[0;36m<module>\u001b[1;34m()\u001b[0m\n\u001b[0;32m      5\u001b[0m \u001b[1;32mfor\u001b[0m \u001b[0mtitanic_data\u001b[0m \u001b[1;32min\u001b[0m \u001b[0mtitanic\u001b[0m\u001b[1;33m:\u001b[0m\u001b[1;33m\u001b[0m\u001b[0m\n\u001b[0;32m      6\u001b[0m     \u001b[1;32mif\u001b[0m \u001b[0mtitanic_data\u001b[0m\u001b[1;33m[\u001b[0m\u001b[1;34m'Sex'\u001b[0m\u001b[1;33m]\u001b[0m \u001b[1;33m==\u001b[0m \u001b[1;34m'female'\u001b[0m\u001b[1;33m:\u001b[0m\u001b[1;33m\u001b[0m\u001b[0m\n\u001b[1;32m----> 7\u001b[1;33m        \u001b[0mwomen\u001b[0m\u001b[1;33m.\u001b[0m\u001b[0madd\u001b[0m\u001b[1;33m(\u001b[0m\u001b[0mtitanic\u001b[0m\u001b[1;33m[\u001b[0m\u001b[1;34m'PassengerId'\u001b[0m\u001b[1;33m]\u001b[0m\u001b[1;33m)\u001b[0m\u001b[1;33m\u001b[0m\u001b[0m\n\u001b[0m\u001b[0;32m      8\u001b[0m \u001b[1;33m\u001b[0m\u001b[0m\n\u001b[0;32m      9\u001b[0m \u001b[0mlen\u001b[0m\u001b[1;33m(\u001b[0m\u001b[0mwomen\u001b[0m\u001b[1;33m)\u001b[0m\u001b[1;33m\u001b[0m\u001b[0m\n",
      "\u001b[1;31mTypeError\u001b[0m: list indices must be integers, not str"
     ]
    }
   ],
   "source": [
    "##  Calculate the total number of women on the ship.\n",
    "##  Problem:  error message says that list indices must be integers, not strings.  why?\n",
    "\n",
    "women = set()\n",
    "for titanic_data in titanic:\n",
    "    if titanic_data['Sex'] == 'female':\n",
    "       women.add(titanic['PassengerId'])\n",
    "\n",
    "len(women)\n",
    "\n",
    "\n",
    "## Calculate the number of women who survived.\n",
    "\n",
    "women_survived = set()\n",
    "for titanic_data in titanic:\n",
    "    if titanic_data['Sex'] == 'female' and titanic_data['Sex'] == '1':\n",
    "       women_survived.add(titanic['PassengerId'])\n",
    "\n",
    "len(women_survived)\n"
   ]
  },
  {
   "cell_type": "code",
   "execution_count": 66,
   "metadata": {
    "collapsed": false
   },
   "outputs": [],
   "source": [
    "## To calculate the survival rate of men and children, we want to repeat what we did for Women.  \n",
    "## So, we will create a loop once we get the women's logic worked out correctly.\n"
   ]
  },
  {
   "cell_type": "code",
   "execution_count": 66,
   "metadata": {
    "collapsed": false
   },
   "outputs": [],
   "source": [
    "## To calculate the survival rate of each passenger class, we want to repeat what we did for Category.  \n",
    "## So, we will create a loop once we get the women's logic worked out correctly.\n",
    "\n"
   ]
  },
  {
   "cell_type": "code",
   "execution_count": null,
   "metadata": {
    "collapsed": true
   },
   "outputs": [],
   "source": [
    "######################################\n",
    "#                 13                 #\n",
    "######################################\n",
    "\n",
    "## Make histograms of the three metrics we looked at earlier for both\n",
    "## students who passed the subway project and students who didn't. You\n",
    "## might also want to make histograms of any other metrics you examined."
   ]
  },
  {
   "cell_type": "markdown",
   "metadata": {},
   "source": [
    "## Improving Plots and Sharing Findings"
   ]
  },
  {
   "cell_type": "code",
   "execution_count": null,
   "metadata": {
    "collapsed": true
   },
   "outputs": [],
   "source": [
    "######################################\n",
    "#                 14                 #\n",
    "######################################\n",
    "\n",
    "## Make a more polished version of at least one of your visualizations\n",
    "## from earlier. Try importing the seaborn library to make the visualization\n",
    "## look better, adding axis labels and a title, and changing one or more\n",
    "## arguments to the hist() function."
   ]
  }
 ],
 "metadata": {
  "anaconda-cloud": {},
  "kernelspec": {
   "display_name": "Python [Root]",
   "language": "python",
   "name": "Python [Root]"
  },
  "language_info": {
   "codemirror_mode": {
    "name": "ipython",
    "version": 2
   },
   "file_extension": ".py",
   "mimetype": "text/x-python",
   "name": "python",
   "nbconvert_exporter": "python",
   "pygments_lexer": "ipython2",
   "version": "2.7.12"
  }
 },
 "nbformat": 4,
 "nbformat_minor": 0
}
